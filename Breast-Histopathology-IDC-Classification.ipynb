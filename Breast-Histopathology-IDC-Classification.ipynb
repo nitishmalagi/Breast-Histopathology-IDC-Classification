{
 "cells": [
  {
   "cell_type": "markdown",
   "metadata": {},
   "source": [
    "# Breast Histopathology IDC Classification"
   ]
  },
  {
   "cell_type": "markdown",
   "metadata": {},
   "source": [
    "## Import dependencies"
   ]
  },
  {
   "cell_type": "code",
   "execution_count": 32,
   "metadata": {},
   "outputs": [],
   "source": [
    "import pandas as pd\n",
    "import numpy as np\n",
    "import tensorflow as tf\n",
    "import seaborn as sns\n",
    "from sklearn.model_selection import train_test_split\n",
    "\n",
    "\n",
    "import os\n",
    "import shutil"
   ]
  },
  {
   "cell_type": "code",
   "execution_count": 2,
   "metadata": {},
   "outputs": [
    {
     "data": {
      "text/plain": [
       "'2.1.0'"
      ]
     },
     "execution_count": 2,
     "metadata": {},
     "output_type": "execute_result"
    }
   ],
   "source": [
    "tf.__version__"
   ]
  },
  {
   "cell_type": "markdown",
   "metadata": {},
   "source": [
    "## Imoprt data"
   ]
  },
  {
   "cell_type": "code",
   "execution_count": 4,
   "metadata": {},
   "outputs": [],
   "source": [
    "# Creating a new directory to store all available images\n",
    "all_images_dir = 'all_images_dir'\n",
    "os.mkdir(all_images_dir)\n",
    "\n",
    "# Create Positive subdirectory within all images\n",
    "os.mkdir('all_images_dir/1')\n",
    "os.mkdir('all_images_dir/0')"
   ]
  },
  {
   "cell_type": "code",
   "execution_count": 5,
   "metadata": {},
   "outputs": [],
   "source": [
    "os.chdir('./data')"
   ]
  },
  {
   "cell_type": "code",
   "execution_count": 6,
   "metadata": {},
   "outputs": [],
   "source": [
    "cur_dir = os.getcwd()"
   ]
  },
  {
   "cell_type": "code",
   "execution_count": 7,
   "metadata": {},
   "outputs": [],
   "source": [
    "patient_list = os.listdir(cur_dir)"
   ]
  },
  {
   "cell_type": "code",
   "execution_count": 8,
   "metadata": {},
   "outputs": [
    {
     "data": {
      "text/plain": [
       "280"
      ]
     },
     "execution_count": 8,
     "metadata": {},
     "output_type": "execute_result"
    }
   ],
   "source": [
    "len(patient_list)"
   ]
  },
  {
   "cell_type": "markdown",
   "metadata": {},
   "source": [
    "## Copying data into a single directory"
   ]
  },
  {
   "cell_type": "code",
   "execution_count": null,
   "metadata": {},
   "outputs": [],
   "source": [
    "\n",
    "for patient in patient_list:\n",
    "  \n",
    "  try:\n",
    "    \n",
    "    path_0 = str(patient) + '/0'\n",
    "    path_1 = str(patient) + '/1'\n",
    "\n",
    "    # create a list of all files in folder 0\n",
    "    file_list_0 = os.listdir(path_0)\n",
    "    # create a list of list all file in folder 1\n",
    "    file_list_1 = os.listdir(path_1)\n",
    "\n",
    "    # move the 0 images to all_images_dir\n",
    "    for fname in file_list_0:\n",
    "        # source path to image\n",
    "        src = os.path.join('/Users/dastan/Projects/Breast-Histopathology-Classification/data/',path_0, fname)\n",
    "        # destination path to image\n",
    "        dst = os.path.join('/Users/dastan/Projects/Breast-Histopathology-Classification/',all_images_dir, '0', fname)\n",
    "        # copy the image from the source to the destination\n",
    "        shutil.copyfile(src, dst)\n",
    "\n",
    "    # move the 1 images to all_images_dir\n",
    "    for fname in file_list_1:\n",
    "        # source path to image\n",
    "        src = os.path.join('/Users/dastan/Projects/Breast-Histopathology-Classification/data/', path_1, fname)\n",
    "        # destination path to image\n",
    "        dst = os.path.join('/Users/dastan/Projects/Breast-Histopathology-Classification/', all_images_dir, '1', fname)\n",
    "        # copy the image from the source to the destination\n",
    "        shutil.copyfile(src, dst)\n",
    "        \n",
    "  except:\n",
    "     print(patient, 'cannot be copied into proper folder')"
   ]
  },
  {
   "cell_type": "code",
   "execution_count": 23,
   "metadata": {
    "scrolled": true
   },
   "outputs": [
    {
     "name": "stdout",
     "output_type": "stream",
     "text": [
      "Total: 277524\n",
      "Positive: 78786\n",
      "Negative: 198738\n"
     ]
    }
   ],
   "source": [
    "# Check the count of images are in each folder\n",
    "\n",
    "os.chdir('/Users/dastan/Projects/Breast-Histopathology-Classification/')\n",
    "print('Total:', len(os.listdir('all_images_dir/1'))+len(os.listdir('all_images_dir/0')))\n",
    "print('Positive:', len(os.listdir('all_images_dir/1')))\n",
    "print('Negative:', len(os.listdir('all_images_dir/0')))"
   ]
  },
  {
   "cell_type": "markdown",
   "metadata": {},
   "source": [
    "## Creating a dataframe from images"
   ]
  },
  {
   "cell_type": "code",
   "execution_count": 27,
   "metadata": {},
   "outputs": [],
   "source": [
    "# Create a dataframe containing all the information\n",
    "\n",
    "image_list_1 = os.listdir('all_images_dir/1')\n",
    "df_data_1 = pd.DataFrame(image_list_1, columns=['image_id'])\n",
    "\n",
    "image_list_0 = os.listdir('all_images_dir/0')\n",
    "df_data_0 = pd.DataFrame(image_list_0, columns=['image_id'])\n",
    "\n",
    "df_data = pd.concat([df_data_1, df_data_0])"
   ]
  },
  {
   "cell_type": "code",
   "execution_count": 28,
   "metadata": {},
   "outputs": [
    {
     "data": {
      "text/html": [
       "<div>\n",
       "<style scoped>\n",
       "    .dataframe tbody tr th:only-of-type {\n",
       "        vertical-align: middle;\n",
       "    }\n",
       "\n",
       "    .dataframe tbody tr th {\n",
       "        vertical-align: top;\n",
       "    }\n",
       "\n",
       "    .dataframe thead th {\n",
       "        text-align: right;\n",
       "    }\n",
       "</style>\n",
       "<table border=\"1\" class=\"dataframe\">\n",
       "  <thead>\n",
       "    <tr style=\"text-align: right;\">\n",
       "      <th></th>\n",
       "      <th>image_id</th>\n",
       "    </tr>\n",
       "  </thead>\n",
       "  <tbody>\n",
       "    <tr>\n",
       "      <td>0</td>\n",
       "      <td>10286_idx5_x1251_y351_class1.png</td>\n",
       "    </tr>\n",
       "    <tr>\n",
       "      <td>1</td>\n",
       "      <td>10269_idx5_x1351_y651_class1.png</td>\n",
       "    </tr>\n",
       "    <tr>\n",
       "      <td>2</td>\n",
       "      <td>10307_idx5_x1351_y1801_class1.png</td>\n",
       "    </tr>\n",
       "    <tr>\n",
       "      <td>3</td>\n",
       "      <td>12910_idx5_x1001_y851_class1.png</td>\n",
       "    </tr>\n",
       "    <tr>\n",
       "      <td>4</td>\n",
       "      <td>12880_idx5_x1151_y2201_class1.png</td>\n",
       "    </tr>\n",
       "  </tbody>\n",
       "</table>\n",
       "</div>"
      ],
      "text/plain": [
       "                            image_id\n",
       "0   10286_idx5_x1251_y351_class1.png\n",
       "1   10269_idx5_x1351_y651_class1.png\n",
       "2  10307_idx5_x1351_y1801_class1.png\n",
       "3   12910_idx5_x1001_y851_class1.png\n",
       "4  12880_idx5_x1151_y2201_class1.png"
      ]
     },
     "execution_count": 28,
     "metadata": {},
     "output_type": "execute_result"
    }
   ],
   "source": [
    "df_data.head()"
   ]
  },
  {
   "cell_type": "code",
   "execution_count": 29,
   "metadata": {},
   "outputs": [
    {
     "data": {
      "text/html": [
       "<div>\n",
       "<style scoped>\n",
       "    .dataframe tbody tr th:only-of-type {\n",
       "        vertical-align: middle;\n",
       "    }\n",
       "\n",
       "    .dataframe tbody tr th {\n",
       "        vertical-align: top;\n",
       "    }\n",
       "\n",
       "    .dataframe thead th {\n",
       "        text-align: right;\n",
       "    }\n",
       "</style>\n",
       "<table border=\"1\" class=\"dataframe\">\n",
       "  <thead>\n",
       "    <tr style=\"text-align: right;\">\n",
       "      <th></th>\n",
       "      <th>image_id</th>\n",
       "      <th>target</th>\n",
       "    </tr>\n",
       "  </thead>\n",
       "  <tbody>\n",
       "    <tr>\n",
       "      <td>0</td>\n",
       "      <td>10286_idx5_x1251_y351_class1.png</td>\n",
       "      <td>1</td>\n",
       "    </tr>\n",
       "    <tr>\n",
       "      <td>1</td>\n",
       "      <td>10269_idx5_x1351_y651_class1.png</td>\n",
       "      <td>1</td>\n",
       "    </tr>\n",
       "    <tr>\n",
       "      <td>2</td>\n",
       "      <td>10307_idx5_x1351_y1801_class1.png</td>\n",
       "      <td>1</td>\n",
       "    </tr>\n",
       "    <tr>\n",
       "      <td>3</td>\n",
       "      <td>12910_idx5_x1001_y851_class1.png</td>\n",
       "      <td>1</td>\n",
       "    </tr>\n",
       "    <tr>\n",
       "      <td>4</td>\n",
       "      <td>12880_idx5_x1151_y2201_class1.png</td>\n",
       "      <td>1</td>\n",
       "    </tr>\n",
       "  </tbody>\n",
       "</table>\n",
       "</div>"
      ],
      "text/plain": [
       "                            image_id target\n",
       "0   10286_idx5_x1251_y351_class1.png      1\n",
       "1   10269_idx5_x1351_y651_class1.png      1\n",
       "2  10307_idx5_x1351_y1801_class1.png      1\n",
       "3   12910_idx5_x1001_y851_class1.png      1\n",
       "4  12880_idx5_x1151_y2201_class1.png      1"
      ]
     },
     "execution_count": 29,
     "metadata": {},
     "output_type": "execute_result"
    }
   ],
   "source": [
    "# adding the target(label) column\n",
    "def extract_target(x):\n",
    "    # split into a list\n",
    "    a = x.split('_')\n",
    "    # the target is part of the string in index 4\n",
    "    b = a[4]\n",
    "    # the ytarget i.e. 1 or 2 is the 5th index of the string --> class1\n",
    "    target = b[5]\n",
    "    \n",
    "    return target\n",
    "\n",
    "# create a new column called 'target'\n",
    "df_data['target'] = df_data['image_id'].apply(extract_target)\n",
    "\n",
    "df_data.head()"
   ]
  },
  {
   "cell_type": "code",
   "execution_count": 31,
   "metadata": {},
   "outputs": [
    {
     "data": {
      "text/plain": [
       "Text(0.5, 1.0, 'Class Distributions')"
      ]
     },
     "execution_count": 31,
     "metadata": {},
     "output_type": "execute_result"
    },
    {
     "data": {
      "image/png": "[encoded data removed]",
      "text/plain": [
       "<Figure size 432x288 with 1 Axes>"
      ]
     },
     "metadata": {
      "needs_background": "light"
     },
     "output_type": "display_data"
    }
   ],
   "source": [
    "sns.countplot(df_data['target']).set_title('Class Distributions')"
   ]
  },
  {
   "cell_type": "markdown",
   "metadata": {},
   "source": [
    "## Splitting the data into test and train"
   ]
  },
  {
   "cell_type": "code",
   "execution_count": 46,
   "metadata": {},
   "outputs": [
    {
     "name": "stdout",
     "output_type": "stream",
     "text": [
      "Train set: 185941\n",
      "Test set: 91583\n"
     ]
    },
    {
     "data": {
      "text/html": [
       "<div>\n",
       "<style scoped>\n",
       "    .dataframe tbody tr th:only-of-type {\n",
       "        vertical-align: middle;\n",
       "    }\n",
       "\n",
       "    .dataframe tbody tr th {\n",
       "        vertical-align: top;\n",
       "    }\n",
       "\n",
       "    .dataframe thead th {\n",
       "        text-align: right;\n",
       "    }\n",
       "</style>\n",
       "<table border=\"1\" class=\"dataframe\">\n",
       "  <thead>\n",
       "    <tr style=\"text-align: right;\">\n",
       "      <th></th>\n",
       "      <th>image_id</th>\n",
       "      <th>target</th>\n",
       "    </tr>\n",
       "  </thead>\n",
       "  <tbody>\n",
       "    <tr>\n",
       "      <td>71888</td>\n",
       "      <td>9029_idx5_x2251_y1001_class1.png</td>\n",
       "      <td>1</td>\n",
       "    </tr>\n",
       "    <tr>\n",
       "      <td>111297</td>\n",
       "      <td>8956_idx5_x2701_y501_class0.png</td>\n",
       "      <td>0</td>\n",
       "    </tr>\n",
       "    <tr>\n",
       "      <td>167951</td>\n",
       "      <td>12910_idx5_x2601_y751_class0.png</td>\n",
       "      <td>0</td>\n",
       "    </tr>\n",
       "    <tr>\n",
       "      <td>169591</td>\n",
       "      <td>12931_idx5_x901_y701_class0.png</td>\n",
       "      <td>0</td>\n",
       "    </tr>\n",
       "    <tr>\n",
       "      <td>69406</td>\n",
       "      <td>12752_idx5_x2701_y1301_class1.png</td>\n",
       "      <td>1</td>\n",
       "    </tr>\n",
       "  </tbody>\n",
       "</table>\n",
       "</div>"
      ],
      "text/plain": [
       "                                 image_id target\n",
       "71888    9029_idx5_x2251_y1001_class1.png      1\n",
       "111297    8956_idx5_x2701_y501_class0.png      0\n",
       "167951   12910_idx5_x2601_y751_class0.png      0\n",
       "169591    12931_idx5_x901_y701_class0.png      0\n",
       "69406   12752_idx5_x2701_y1301_class1.png      1"
      ]
     },
     "execution_count": 46,
     "metadata": {},
     "output_type": "execute_result"
    }
   ],
   "source": [
    "X_train, X_test, y_train, y_test = train_test_split(\n",
    "    df_data, df_data['target'], test_size=0.33, random_state=42, stratify=df_data['target'])\n",
    "\n",
    "print('Train set:', X_train.shape[0])\n",
    "print('Test set:', X_test.shape[0])\n",
    "X_train.head()"
   ]
  },
  {
   "cell_type": "code",
   "execution_count": 44,
   "metadata": {},
   "outputs": [
    {
     "data": {
      "text/plain": [
       "Text(0.5, 1.0, 'Train dataset class Distributions')"
      ]
     },
     "execution_count": 44,
     "metadata": {},
     "output_type": "execute_result"
    },
    {
     "data": {
      "image/png": "[encoded data removed]",
      "text/plain": [
       "<Figure size 432x288 with 1 Axes>"
      ]
     },
     "metadata": {
      "needs_background": "light"
     },
     "output_type": "display_data"
    }
   ],
   "source": [
    "sns.countplot(X_train['target']).set_title('Train dataset class Distributions')"
   ]
  },
  {
   "cell_type": "code",
   "execution_count": 45,
   "metadata": {},
   "outputs": [
    {
     "data": {
      "text/plain": [
       "Text(0.5, 1.0, 'Train dataset class Distributions')"
      ]
     },
     "execution_count": 45,
     "metadata": {},
     "output_type": "execute_result"
    },
    {
     "data": {
      "image/png": "[encoded data removed]",
      "text/plain": [
       "<Figure size 432x288 with 1 Axes>"
      ]
     },
     "metadata": {
      "needs_background": "light"
     },
     "output_type": "display_data"
    }
   ],
   "source": [
    "sns.countplot(X_test['target']).set_title('Train dataset class Distributions')"
   ]
  },
  {
   "cell_type": "code",
   "execution_count": 47,
   "metadata": {},
   "outputs": [
    {
     "data": {
      "text/plain": [
       "(185941, 2)"
      ]
     },
     "execution_count": 47,
     "metadata": {},
     "output_type": "execute_result"
    }
   ],
   "source": [
    "X_train.shape"
   ]
  },
  {
   "cell_type": "code",
   "execution_count": null,
   "metadata": {},
   "outputs": [],
   "source": [
    "Architecture of CNN loading.."
   ]
  }
 ],
 "metadata": {
  "kernelspec": {
   "display_name": "Python 3",
   "language": "python",
   "name": "python3"
  },
  "language_info": {
   "codemirror_mode": {
    "name": "ipython",
    "version": 3
   },
   "file_extension": ".py",
   "mimetype": "text/x-python",
   "name": "python",
   "nbconvert_exporter": "python",
   "pygments_lexer": "ipython3",
   "version": "3.7.3"
  }
 },
 "nbformat": 4,
 "nbformat_minor": 2
}
